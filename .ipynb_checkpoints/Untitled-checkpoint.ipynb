{
 "cells": [
  {
   "cell_type": "markdown",
   "metadata": {},
   "source": [
    "# 1. Imports"
   ]
  },
  {
   "cell_type": "code",
   "execution_count": 69,
   "metadata": {},
   "outputs": [],
   "source": [
    "import pandas as pd\n",
    "from pandas_profiling import ProfileReport\n",
    "import re"
   ]
  },
  {
   "cell_type": "code",
   "execution_count": 70,
   "metadata": {},
   "outputs": [],
   "source": [
    "df_train = pd.read_csv('train.csv')\n",
    "df_test = pd.read_csv('test.csv')"
   ]
  },
  {
   "cell_type": "markdown",
   "metadata": {},
   "source": [
    "## Analyser la signification des variables "
   ]
  },
  {
   "cell_type": "markdown",
   "metadata": {},
   "source": [
    "# 2. Exploration "
   ]
  },
  {
   "cell_type": "code",
   "execution_count": 68,
   "metadata": {},
   "outputs": [
    {
     "name": "stdout",
     "output_type": "stream",
     "text": [
      "PassengerId - 891 - 1.0\n",
      "Survived - 2 - 1.0\n",
      "Pclass - 3 - 1.0\n",
      "Name - 891 - 1.0\n",
      "Sex - 2 - 1.0\n",
      "Age - 89 - 0.8013468013468014\n",
      "SibSp - 7 - 1.0\n",
      "Parch - 7 - 1.0\n",
      "Ticket - 681 - 1.0\n",
      "Fare - 248 - 1.0\n",
      "Cabin - 148 - 0.22895622895622897\n",
      "Embarked - 4 - 0.9977553310886644\n"
     ]
    }
   ],
   "source": [
    "for col in data.columns:\n",
    "    print('%s - %s - %s'%(col, len(data[col].unique()), len(data[data[col].isnull() == False]) / len(data)))"
   ]
  }
 ],
 "metadata": {
  "kernelspec": {
   "display_name": "Python 3",
   "language": "python",
   "name": "python3"
  },
  "language_info": {
   "codemirror_mode": {
    "name": "ipython",
    "version": 3
   },
   "file_extension": ".py",
   "mimetype": "text/x-python",
   "name": "python",
   "nbconvert_exporter": "python",
   "pygments_lexer": "ipython3",
   "version": "3.7.4"
  }
 },
 "nbformat": 4,
 "nbformat_minor": 2
}

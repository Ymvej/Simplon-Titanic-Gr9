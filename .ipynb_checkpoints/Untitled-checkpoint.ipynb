{
 "cells": [
  {
   "cell_type": "markdown",
   "metadata": {},
   "source": [
    "# 1. Imports"
   ]
  },
  {
   "cell_type": "code",
   "execution_count": 72,
   "metadata": {},
   "outputs": [],
   "source": [
    "import pandas as pd\n",
    "from pandas_profiling import ProfileReport\n",
    "import re"
   ]
  },
  {
   "cell_type": "code",
   "execution_count": 73,
   "metadata": {},
   "outputs": [],
   "source": [
    "train_df = pd.read_csv('train.csv')\n",
    "test_df = pd.read_csv('test.csv')"
   ]
  },
  {
   "cell_type": "markdown",
   "metadata": {},
   "source": [
    "## Analyser la signification des variables"
   ]
  },
  {
   "cell_type": "code",
   "execution_count": 74,
   "metadata": {},
   "outputs": [
    {
     "name": "stdout",
     "output_type": "stream",
     "text": [
      "['PassengerId' 'Survived' 'Pclass' 'Name' 'Sex' 'Age' 'SibSp' 'Parch'\n",
      " 'Ticket' 'Fare' 'Cabin' 'Embarked']\n"
     ]
    }
   ],
   "source": [
    "print(train_df.columns.values)"
   ]
  },
  {
   "cell_type": "markdown",
   "metadata": {},
   "source": [
    "**PassengerId** : ID unique du passager *drop*\n",
    "\n",
    "**Survived** : État de vie du passager *On prend*\n",
    "\n",
    "**Pclass** : Classe du ticket > 1 = 1ère classe / 2 = 2ème classe / 3 = 3ème classe *On prend*\n",
    "\n",
    "**Name** : Nom du passager > a noter que le nom du passager varie en fonction de son sexe *string, drop*\n",
    "\n",
    "**Sex** : Genre du passager > 0 = F / 1 = M *On prend*\n",
    "\n",
    "**Age** : Age du passager *On prend*\n",
    "\n",
    "**SibSp** : Nombre de frères/soeurs/conjoints à bord du Titanic *On prend*\n",
    "\n",
    "**Parch** : Nombre de parents/enfants à bord *On prend*\n",
    "\n",
    "**Ticket** : Numero de ticket du passager *drop*\n",
    "\n",
    "**Fare** : Tarif par passager *On prend*\n",
    "\n",
    "**Cabin** : Numero de cabine des passagers *drop*\n",
    "\n",
    "**Embarked** : Port d'embarquement > C = Chebourg / Q = Queenstown / S = Southampton *On prend*"
   ]
  },
  {
   "cell_type": "code",
   "execution_count": 80,
   "metadata": {
    "scrolled": true
   },
   "outputs": [
    {
     "name": "stdout",
     "output_type": "stream",
     "text": [
      "     Survived  Pclass     Sex   Age  SibSp  Parch     Fare Embarked\n",
      "0           0       3    male  22.0      1      0   7.2500        S\n",
      "1           1       1  female  38.0      1      0  71.2833        C\n",
      "2           1       3  female  26.0      0      0   7.9250        S\n",
      "3           1       1  female  35.0      1      0  53.1000        S\n",
      "4           0       3    male  35.0      0      0   8.0500        S\n",
      "..        ...     ...     ...   ...    ...    ...      ...      ...\n",
      "886         0       2    male  27.0      0      0  13.0000        S\n",
      "887         1       1  female  19.0      0      0  30.0000        S\n",
      "888         0       3  female   NaN      1      2  23.4500        S\n",
      "889         1       1    male  26.0      0      0  30.0000        C\n",
      "890         0       3    male  32.0      0      0   7.7500        Q\n",
      "\n",
      "[891 rows x 8 columns]\n"
     ]
    }
   ],
   "source": [
    "# On drop les colonnes qu'on ignore\n",
    "train_df.drop(['PassengerId', 'Name', 'Ticket', 'Cabin'], axis=1, inplace=True)\n",
    "print(train_df)"
   ]
  },
  {
   "cell_type": "markdown",
   "metadata": {},
   "source": [
    "# 2. Exploration "
   ]
  },
  {
   "cell_type": "code",
   "execution_count": 95,
   "metadata": {},
   "outputs": [
    {
     "name": "stdout",
     "output_type": "stream",
     "text": [
      "Colonne - Type - Nombre de valeurs uniques - %age de valeurs présentes\n",
      "----------------------------------------------------------------------\n",
      "Survived - int64 - 2 - 100\n",
      "Pclass - int64 - 3 - 100\n",
      "Sex - object - 2 - 100\n",
      "Age - float64 - 89 - 80\n",
      "SibSp - int64 - 7 - 100\n",
      "Parch - int64 - 7 - 100\n",
      "Fare - float64 - 248 - 100\n",
      "Embarked - object - 4 - 99\n",
      "----------------------------------------------------------------------\n"
     ]
    }
   ],
   "source": [
    "print('Colonne - Type - Nombre de valeurs uniques - %age de valeurs présentes')\n",
    "print('----------------------------------------------------------------------')\n",
    "for col in train_df.columns:\n",
    "    print('%s - %s - %s - %s'%(col, train_df[col].dtypes, len(train_df[col].unique()), int(len(train_df[train_df[col].isnull() == False]) / len(train_df) * 100)))\n",
    "print('----------------------------------------------------------------------')"
   ]
  },
  {
   "cell_type": "code",
   "execution_count": null,
   "metadata": {},
   "outputs": [],
   "source": []
  }
 ],
 "metadata": {
  "kernelspec": {
   "display_name": "Python 3",
   "language": "python",
   "name": "python3"
  },
  "language_info": {
   "codemirror_mode": {
    "name": "ipython",
    "version": 3
   },
   "file_extension": ".py",
   "mimetype": "text/x-python",
   "name": "python",
   "nbconvert_exporter": "python",
   "pygments_lexer": "ipython3",
   "version": "3.7.4"
  }
 },
 "nbformat": 4,
 "nbformat_minor": 2
}

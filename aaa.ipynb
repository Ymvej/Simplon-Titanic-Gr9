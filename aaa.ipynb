{
 "cells": [
  {
   "cell_type": "code",
   "execution_count": null,
   "metadata": {},
   "outputs": [],
   "source": [
    "import numpy as np\n",
    "from scipy import stats\n",
    "from statsmodels.stats import weightstats"
   ]
  },
  {
   "cell_type": "raw",
   "metadata": {},
   "source": [
    "X1 > Dosage dans le lot à tester\n",
    "X2 > Dosage prévu\n",
    "µ1 > moyenne du lot à tester\n",
    "µ2 > moyenne prévue\n",
    "σ1 > écart-type du lot à tester\n",
    "σ2 > écart-type prévu"
   ]
  },
  {
   "cell_type": "code",
   "execution_count": 9,
   "metadata": {},
   "outputs": [],
   "source": [
    "pouet = np.random.normal(loc=5,scale=0.1,size=10000)\n",
    "sample = np.random.normal(loc=4.85, scale=0.5, size=100)\n",
    "muzero = 5.0"
   ]
  },
  {
   "cell_type": "raw",
   "metadata": {},
   "source": [
    "__*** Test Z ***__\n",
    "1) Paramétrique\n",
    "\n",
    "2) H0 : Les médicaments ont le même taux de PA entre l'échantillon et la population générale\n",
    "   H1 : Les médicaments n'ont pas le même taux de PA entre l'échantillon et la population générale\n",
    "   \n",
    "3) Test Z\n",
    "4) - La question à 2 réponses possibles ✓\n",
    "   - Une experimentation a fourni les données ✓\n",
    "   - Les données sont décrites par un modèle statistique ✓\n",
    "   - La réponde peut se traduire par l'acceptation ou le rejet d'une hypothèse ✓\n",
    "5 ) Conclusion : \n",
    "\n",
    "La p_value étant inférieure au seuil de 5%, on peut rejetter l'hypothèse nulle."
   ]
  },
  {
   "cell_type": "code",
   "execution_count": 10,
   "metadata": {},
   "outputs": [
    {
     "data": {
      "text/plain": [
       "(-36.62873019332744, 9.981279913827043e-294)"
      ]
     },
     "execution_count": 10,
     "metadata": {},
     "output_type": "execute_result"
    }
   ],
   "source": [
    "weightstats.ztest(sample, pouet, 0.15)"
   ]
  },
  {
   "cell_type": "raw",
   "metadata": {},
   "source": [
    "__*** Test T ***__\n",
    "1) Paramétrique\n",
    "\n",
    "2) H0 : Les médicaments ont le même taux de PA entre l'échantillon et la population générale\n",
    "   H1 : Les médicaments n'ont pas le même taux de PA entre l'échantillon et la population générale\n",
    "\n",
    "3) Test T\n",
    "4) - La question à 2 réponses possibles ✓\n",
    "   - Une experimentation a fourni les données ✓\n",
    "   - Les données sont décrites par un modèle statistique ✓\n",
    "   - La réponde peut se traduire par l'acceptation ou le rejet d'une hypothèse ✓\n",
    "5 ) Conclusion : \n",
    "\n",
    "La p_value étant inférieure au seuil de 5%, on peut rejetter l'hypothèse nulle."
   ]
  },
  {
   "cell_type": "code",
   "execution_count": 11,
   "metadata": {},
   "outputs": [
    {
     "data": {
      "text/plain": [
       "Ttest_1sampResult(statistic=-5.3721184687087895, pvalue=5.16643172210534e-07)"
      ]
     },
     "execution_count": 11,
     "metadata": {},
     "output_type": "execute_result"
    }
   ],
   "source": [
    "stats.ttest_1samp(sample,muzero)"
   ]
  },
  {
   "cell_type": "raw",
   "metadata": {},
   "source": [
    "X1 = enfants allaités\n",
    "X2 = enfants non allaités\n",
    "µ1 = moyenne SYS 98,5 allaités\n",
    "µ2 = moyenne SYS 99.9 non allaités\n",
    "σ1 > écart-type 9.0 allaités\n",
    "σ2 > écart-type 9.6 non allaités"
   ]
  },
  {
   "cell_type": "code",
   "execution_count": 15,
   "metadata": {},
   "outputs": [],
   "source": [
    "milk = np.random.normal(loc=98.5,scale=9.0,size=5478)\n",
    "nomilk = np.random.normal(loc=99.9,scale=9.6,size=1125)"
   ]
  },
  {
   "cell_type": "raw",
   "metadata": {},
   "source": [
    "__*** Test T 2 ***__\n",
    "1) Paramétrique\n",
    "\n",
    "2) H0 : L'allaitement n'entraine pas de différence de SYS à 7 ans\n",
    "   H1 : L'allaitement entraine une différence de SYS à 7 ans\n",
    "3) Test T\n",
    "4) - La question à 2 réponses possibles ✓\n",
    "   - Une experimentation a fourni les données ✓\n",
    "   - Les données sont décrites par un modèle statistique ✓\n",
    "   - La réponde peut se traduire par l'acceptation ou le rejet d'une hypothèse ✓\n",
    "5 ) Conclusion : \n",
    "La p_value étant inférieure au seuil de 5%, on peut rejetter l'hypothèse nulle."
   ]
  },
  {
   "cell_type": "code",
   "execution_count": 16,
   "metadata": {},
   "outputs": [
    {
     "data": {
      "text/plain": [
       "Ttest_indResult(statistic=-4.201596842905538, pvalue=2.685313766162136e-05)"
      ]
     },
     "execution_count": 16,
     "metadata": {},
     "output_type": "execute_result"
    }
   ],
   "source": [
    "stats.ttest_ind(milk, nomilk)"
   ]
  },
  {
   "cell_type": "raw",
   "metadata": {},
   "source": [
    "X1 = echantillon premier quartier n=9\n",
    "X2 = echantillon second quartier n=12\n",
    "µ1 = moyenne X1 107\n",
    "µ2 = moyenne X2 112\n",
    "σ1 > écart-type X1 10\n",
    "σ2 > écart-type X2 9"
   ]
  },
  {
   "cell_type": "raw",
   "metadata": {},
   "source": [
    "__*** Test F ***__\n",
    "\n",
    "1) Paramétrique\n",
    "\n",
    "2) H0 : Le QI est identique entre le quartier 1 et le quartier 2\n",
    "   H1 : Le QI est différent entre le quartier 1 et le quartier 2\n",
    "\n",
    "3) Test F\n",
    "\n",
    "4) - La question à 2 réponses possibles ✓\n",
    "   - Une experimentation a fourni les données ✓\n",
    "   - Les données sont décrites par un modèle statistique ✓\n",
    "   - La réponde peut se traduire par l'acceptation ou le rejet d'une hypothèse ✓\n",
    "   \n",
    "5 ) Conclusion : \n",
    "\n",
    "La p_value étant supérieure au seuil de 5%, on ne peut pas rejetter l'hypothèse nulle."
   ]
  },
  {
   "cell_type": "code",
   "execution_count": 28,
   "metadata": {},
   "outputs": [],
   "source": [
    "quart1 = np.random.f(8,20, 9)\n",
    "quart2 = np.random.f(11,20, 9)"
   ]
  },
  {
   "cell_type": "code",
   "execution_count": 29,
   "metadata": {},
   "outputs": [
    {
     "data": {
      "text/plain": [
       "F_onewayResult(statistic=0.06151646658843028, pvalue=0.8072700336526252)"
      ]
     },
     "execution_count": 29,
     "metadata": {},
     "output_type": "execute_result"
    }
   ],
   "source": [
    "stats.f_oneway(quart1, quart2)"
   ]
  }
 ],
 "metadata": {
  "kernelspec": {
   "display_name": "Python 3",
   "language": "python",
   "name": "python3"
  },
  "language_info": {
   "codemirror_mode": {
    "name": "ipython",
    "version": 3
   },
   "file_extension": ".py",
   "mimetype": "text/x-python",
   "name": "python",
   "nbconvert_exporter": "python",
   "pygments_lexer": "ipython3",
   "version": "3.7.4"
  }
 },
 "nbformat": 4,
 "nbformat_minor": 2
}

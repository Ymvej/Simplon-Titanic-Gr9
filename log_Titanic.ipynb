{
 "cells": [
  {
   "cell_type": "markdown",
   "metadata": {},
   "source": [
    "# <center> THE TITANIC DATASET ANALYSIS </center>"
   ]
  },
  {
   "cell_type": "markdown",
   "metadata": {},
   "source": [
    "![Titanic 2](https://img.20mn.fr/CErtKaVbRdGYu9BfHjihKA/640x410_leonardo-dicaprio-kate-winslet-titanic.jpg)"
   ]
  },
  {
   "cell_type": "code",
   "execution_count": 1,
   "metadata": {},
   "outputs": [],
   "source": [
    "from sklearn import preprocessing\n",
    "from sklearn import datasets\n",
    "import sklearn.model_selection as ms\n",
    "import sklearn.metrics as sklm\n",
    "import matplotlib.pyplot as plt\n",
    "import pandas as pd\n",
    "import numpy as np\n",
    "import numpy.random as nr\n",
    "import seaborn as sns\n",
    "sns.set(color_codes=True)\n",
    "%matplotlib inline"
   ]
  },
  {
   "cell_type": "code",
   "execution_count": 2,
   "metadata": {},
   "outputs": [
    {
     "name": "stdout",
     "output_type": "stream",
     "text": [
      "(891, 12) \n",
      "\n",
      "PassengerId      int64\n",
      "Survived         int64\n",
      "Pclass           int64\n",
      "Name            object\n",
      "Sex             object\n",
      "Age            float64\n",
      "SibSp            int64\n",
      "Parch            int64\n",
      "Ticket          object\n",
      "Fare           float64\n",
      "Cabin           object\n",
      "Embarked        object\n",
      "dtype: object\n"
     ]
    }
   ],
   "source": [
    "data = pd.read_csv('train.csv')\n",
    "test = pd.read_csv('test.csv')\n",
    "print(data.shape, '\\n')\n",
    "print(data.dtypes)\n",
    "test.drop(['PassengerId', 'Cabin', 'Ticket', 'Name'], inplace = True, axis=1)\n",
    "data.drop(['PassengerId', 'Cabin', 'Ticket', 'Name'], inplace = True, axis=1)"
   ]
  },
  {
   "cell_type": "code",
   "execution_count": 3,
   "metadata": {},
   "outputs": [
    {
     "name": "stdout",
     "output_type": "stream",
     "text": [
      "         Survived      Pclass         Age       SibSp       Parch        Fare\n",
      "count  891.000000  891.000000  714.000000  891.000000  891.000000  891.000000\n",
      "mean     0.383838    2.308642   29.699118    0.523008    0.381594   32.204208\n",
      "std      0.486592    0.836071   14.526497    1.102743    0.806057   49.693429\n",
      "min      0.000000    1.000000    0.420000    0.000000    0.000000    0.000000\n",
      "25%      0.000000    2.000000   20.125000    0.000000    0.000000    7.910400\n",
      "50%      0.000000    3.000000   28.000000    0.000000    0.000000   14.454200\n",
      "75%      1.000000    3.000000   38.000000    1.000000    0.000000   31.000000\n",
      "max      1.000000    3.000000   80.000000    8.000000    6.000000  512.329200\n"
     ]
    },
    {
     "data": {
      "text/html": [
       "<div>\n",
       "<style scoped>\n",
       "    .dataframe tbody tr th:only-of-type {\n",
       "        vertical-align: middle;\n",
       "    }\n",
       "\n",
       "    .dataframe tbody tr th {\n",
       "        vertical-align: top;\n",
       "    }\n",
       "\n",
       "    .dataframe thead th {\n",
       "        text-align: right;\n",
       "    }\n",
       "</style>\n",
       "<table border=\"1\" class=\"dataframe\">\n",
       "  <thead>\n",
       "    <tr style=\"text-align: right;\">\n",
       "      <th></th>\n",
       "      <th>Survived</th>\n",
       "      <th>Pclass</th>\n",
       "      <th>Sex</th>\n",
       "      <th>Age</th>\n",
       "      <th>SibSp</th>\n",
       "      <th>Parch</th>\n",
       "      <th>Fare</th>\n",
       "      <th>Embarked</th>\n",
       "    </tr>\n",
       "  </thead>\n",
       "  <tbody>\n",
       "    <tr>\n",
       "      <th>0</th>\n",
       "      <td>0</td>\n",
       "      <td>3</td>\n",
       "      <td>male</td>\n",
       "      <td>22.0</td>\n",
       "      <td>1</td>\n",
       "      <td>0</td>\n",
       "      <td>7.2500</td>\n",
       "      <td>S</td>\n",
       "    </tr>\n",
       "    <tr>\n",
       "      <th>1</th>\n",
       "      <td>1</td>\n",
       "      <td>1</td>\n",
       "      <td>female</td>\n",
       "      <td>38.0</td>\n",
       "      <td>1</td>\n",
       "      <td>0</td>\n",
       "      <td>71.2833</td>\n",
       "      <td>C</td>\n",
       "    </tr>\n",
       "    <tr>\n",
       "      <th>2</th>\n",
       "      <td>1</td>\n",
       "      <td>3</td>\n",
       "      <td>female</td>\n",
       "      <td>26.0</td>\n",
       "      <td>0</td>\n",
       "      <td>0</td>\n",
       "      <td>7.9250</td>\n",
       "      <td>S</td>\n",
       "    </tr>\n",
       "    <tr>\n",
       "      <th>3</th>\n",
       "      <td>1</td>\n",
       "      <td>1</td>\n",
       "      <td>female</td>\n",
       "      <td>35.0</td>\n",
       "      <td>1</td>\n",
       "      <td>0</td>\n",
       "      <td>53.1000</td>\n",
       "      <td>S</td>\n",
       "    </tr>\n",
       "    <tr>\n",
       "      <th>4</th>\n",
       "      <td>0</td>\n",
       "      <td>3</td>\n",
       "      <td>male</td>\n",
       "      <td>35.0</td>\n",
       "      <td>0</td>\n",
       "      <td>0</td>\n",
       "      <td>8.0500</td>\n",
       "      <td>S</td>\n",
       "    </tr>\n",
       "  </tbody>\n",
       "</table>\n",
       "</div>"
      ],
      "text/plain": [
       "   Survived  Pclass     Sex   Age  SibSp  Parch     Fare Embarked\n",
       "0         0       3    male  22.0      1      0   7.2500        S\n",
       "1         1       1  female  38.0      1      0  71.2833        C\n",
       "2         1       3  female  26.0      0      0   7.9250        S\n",
       "3         1       1  female  35.0      1      0  53.1000        S\n",
       "4         0       3    male  35.0      0      0   8.0500        S"
      ]
     },
     "execution_count": 3,
     "metadata": {},
     "output_type": "execute_result"
    }
   ],
   "source": [
    "print(data.describe().apply(lambda s: s.apply(lambda x: format(x, 'f'))))\n",
    "data.head()"
   ]
  },
  {
   "cell_type": "code",
   "execution_count": 4,
   "metadata": {},
   "outputs": [],
   "source": [
    "# for i in data.columns:\n",
    "#     print(data[i].value_counts(), '\\n', '----------------------')"
   ]
  },
  {
   "cell_type": "code",
   "execution_count": 5,
   "metadata": {},
   "outputs": [
    {
     "name": "stdout",
     "output_type": "stream",
     "text": [
      "Column - Type - Number of modalities - Percentage of NAN\n",
      "----------------------------------------------------------------------\n",
      "Survived - int64 - 2 - 0.0\n",
      "Pclass - int64 - 3 - 0.0\n",
      "Sex - object - 2 - 0.0\n",
      "Age - float64 - 89 - 0.199\n",
      "SibSp - int64 - 7 - 0.0\n",
      "Parch - int64 - 7 - 0.0\n",
      "Fare - float64 - 248 - 0.0\n",
      "Embarked - object - 4 - 0.002\n",
      "----------------------------------------------------------------------\n"
     ]
    }
   ],
   "source": [
    "# print(data.nunique(axis=0))\n",
    "# for i in data.columns:\n",
    "#     if data[i].isnull().sum() / len(data) >0 :\n",
    "#         print(i)\n",
    "#         print(round(data[i].isnull().sum() / len(data), 2))\n",
    "#percentage of missing values in a column\n",
    "\n",
    "print('Column - Type - Number of modalities - Percentage of NAN')\n",
    "print('----------------------------------------------------------------------')\n",
    "for col in data.columns:\n",
    "    print('%s - %s - %s - %s'%(col, data[col].dtypes, len(data[col].unique()), round(data[col].isnull().sum() / len(data), 3)))\n",
    "print('----------------------------------------------------------------------')"
   ]
  },
  {
   "cell_type": "code",
   "execution_count": 6,
   "metadata": {},
   "outputs": [
    {
     "data": {
      "text/plain": [
       "<matplotlib.axes._subplots.AxesSubplot at 0x7ff01007de90>"
      ]
     },
     "execution_count": 6,
     "metadata": {},
     "output_type": "execute_result"
    },
    {
     "data": {
      "image/png": "[encoded data removed]",
      "text/plain": [
       "<Figure size 792x648 with 2 Axes>"
      ]
     },
     "metadata": {
      "needs_background": "light"
     },
     "output_type": "display_data"
    }
   ],
   "source": [
    "corr = data.corr()\n",
    "# Generate a mask for the upper triangle\n",
    "mask = np.triu(np.ones_like(corr, dtype=np.bool))\n",
    "\n",
    "# Set up the matplotlib figure\n",
    "f, ax = plt.subplots(figsize=(11, 9))\n",
    "\n",
    "# Generate a custom diverging colormap\n",
    "cmap = sns.diverging_palette(220, 10, as_cmap=True)\n",
    "\n",
    "# Draw the heatmap with the mask and correct aspect ratio\n",
    "sns.heatmap(corr, mask=mask, cmap=cmap, vmax=.3, center=0,\n",
    "            square=True, linewidths=.5, cbar_kws={\"shrink\": .5}, annot=True)"
   ]
  },
  {
   "cell_type": "code",
   "execution_count": 7,
   "metadata": {},
   "outputs": [],
   "source": [
    "# sum up those related columns\n",
    "data['fam_Size'] = data['SibSp'] + data['Parch'] +1\n",
    "test['fam_Size'] = test['SibSp'] + test['Parch'] +1"
   ]
  },
  {
   "cell_type": "code",
   "execution_count": 8,
   "metadata": {},
   "outputs": [],
   "source": [
    "#discretization for continuous variables\n",
    "data['discretize_age'] = pd.cut(data['Age'], bins=[0,10,20,40,60,100])\n",
    "data['discretize_fare'] = pd.cut(data['Fare'], bins=[0,10,15,30,100,550])\n",
    "test['discretize_age'] = pd.cut(test['Age'], bins=[0,10,20,40,60,100])\n",
    "test['discretize_fare'] = pd.cut(test['Fare'], bins=[0,10,15,30,100,550])\n"
   ]
  },
  {
   "cell_type": "code",
   "execution_count": 9,
   "metadata": {},
   "outputs": [],
   "source": [
    "# import re as re\n",
    "# def get_title(name):\n",
    "#     title_search = re.search(' ([A-Za-z]+)\\.', name)\n",
    "#     # If the title exists, extract and return it.\n",
    "#     if title_search:\n",
    "#         return title_search.group(1)\n",
    "#     return \"\"\n",
    "\n",
    "# for d in data:\n",
    "#     data['Title'] = data['Name'].apply(get_title)\n",
    "\n",
    "# print(data['Title'], data['Sex'])"
   ]
  },
  {
   "cell_type": "code",
   "execution_count": 10,
   "metadata": {},
   "outputs": [],
   "source": [
    "# for d in data:\n",
    "#     data['Title'] = data['Title'].replace(['Lady', 'Countess','Capt', 'Col',\\\n",
    "#     'Don', 'Dr', 'Major', 'Rev', 'Sir', 'Jonkheer', 'Dona'], 'Misc')\n",
    "\n",
    "#     data['Title'] = data['Title'].replace('Mlle', 'Miss')\n",
    "#     data['Title'] = data['Title'].replace('Ms', 'Miss')\n",
    "#     data['Title'] = data['Title'].replace('Mme', 'Mrs')\n",
    "\n",
    "# print (data[['Title', 'Survived']].groupby(['Title'], as_index=False).mean())"
   ]
  },
  {
   "cell_type": "code",
   "execution_count": 11,
   "metadata": {},
   "outputs": [],
   "source": [
    "# data[['Sex', 'Survived']].groupby(['Sex'], as_index=False).mean().sort_values(by='Survived', ascending=False)"
   ]
  },
  {
   "cell_type": "code",
   "execution_count": 12,
   "metadata": {},
   "outputs": [],
   "source": [
    "# data.drop_duplicates()\n",
    "# num = data[['Age', 'SibSp', 'Parch', 'Fare']]\n",
    "# cat = data[['Sex', 'Pclass', 'Embarked']]\n",
    "# sns.pairplot(num)\n"
   ]
  },
  {
   "cell_type": "code",
   "execution_count": 13,
   "metadata": {},
   "outputs": [],
   "source": [
    "# def plot_box(data, cols, col_x = 'Survived'):\n",
    "#     for col in cols:\n",
    "#         sns.set_style(\"whitegrid\")\n",
    "#         sns.boxplot(col_x, col, data=data)\n",
    "#         plt.xlabel(col_x) # Set text for the x axis\n",
    "#         plt.ylabel(col)# Set text for y axis\n",
    "#         plt.show()\n",
    "\n",
    "# d = data[data['Fare'] < 150 ]        \n",
    "# plot_box(d , num)"
   ]
  },
  {
   "cell_type": "code",
   "execution_count": 14,
   "metadata": {},
   "outputs": [],
   "source": [
    "# from mpl_toolkits.mplot3d import Axes3D\n",
    "# import matplotlib.pyplot as plt\n",
    "\n",
    "# fig = plt.figure()\n",
    "# ax = fig.add_subplot(projection='3d')\n",
    "\n",
    "# d = data[data['Fare'] < 150 ]\n",
    "\n",
    "# x = d['Age']\n",
    "# y = d['Fare']\n",
    "# z = d['SibSp']\n",
    " \n",
    "# ax.scatter(x, y, z, c='g', marker='o')\n",
    "\n",
    "# ax.set_xlabel('Age')\n",
    "# ax.set_ylabel('Fare')\n",
    "# ax.set_zlabel('SibSp')\n",
    "\n",
    "# plt.show()"
   ]
  },
  {
   "cell_type": "code",
   "execution_count": 15,
   "metadata": {},
   "outputs": [],
   "source": [
    "# g = sns.jointplot(x=d['Age'], y=d['Fare'], data=d,  kind=\"kde\", color=\"r\")\n",
    "# g.plot_joint(plt.scatter, c=\"b\", s=30, linewidth=1, marker=\"+\")\n",
    "# g.ax_joint.collections[0].set_alpha(0)\n",
    "# g.set_axis_labels(\"$Age$\", \"$Fare$\");"
   ]
  },
  {
   "cell_type": "code",
   "execution_count": 16,
   "metadata": {},
   "outputs": [],
   "source": [
    "from sklearn.compose import make_column_selector\n",
    "\n",
    "num = make_column_selector(dtype_include=np.number)\n",
    "cat = make_column_selector(dtype_exclude=np.number)\n"
   ]
  },
  {
   "cell_type": "code",
   "execution_count": 17,
   "metadata": {},
   "outputs": [],
   "source": [
    "from sklearn.impute import KNNImputer, SimpleImputer\n",
    "from sklearn.preprocessing import RobustScaler\n",
    "from  sklearn.pipeline import make_pipeline\n",
    "from sklearn.preprocessing import OneHotEncoder\n",
    "\n",
    "\n",
    "# imputerK = KNNImputer(n_neighbors=3)\n",
    "# imputerK.fit_transform(num)\n",
    "# scaler = RobustScaler()\n",
    "# scaler.fit_transform(num)\n",
    "\n",
    "# imputerM = SimpleImputer(strategy='most_frequent')\n",
    "# imputerM.fit_transform(cat)\n",
    "# encoder = OneHotEncoder()\n",
    "# encoder.fit_transform(cat)\n",
    "\n",
    "num_pipeline = make_pipeline(KNNImputer(n_neighbors=3), RobustScaler())\n",
    "cat_pipeline = make_pipeline(SimpleImputer(strategy='most_frequent'), OneHotEncoder())"
   ]
  },
  {
   "cell_type": "code",
   "execution_count": 18,
   "metadata": {},
   "outputs": [],
   "source": [
    "from sklearn.compose import make_column_transformer\n",
    "\n",
    "preprocessor = make_column_transformer((num_pipeline, num), (cat_pipeline, cat))"
   ]
  },
  {
   "cell_type": "code",
   "execution_count": 47,
   "metadata": {},
   "outputs": [
    {
     "data": {
      "text/plain": [
       "Pipeline(memory=None,\n",
       "         steps=[('columntransformer',\n",
       "                 ColumnTransformer(n_jobs=None, remainder='drop',\n",
       "                                   sparse_threshold=0.3,\n",
       "                                   transformer_weights=None,\n",
       "                                   transformers=[('pipeline-1',\n",
       "                                                  Pipeline(memory=None,\n",
       "                                                           steps=[('knnimputer',\n",
       "                                                                   KNNImputer(add_indicator=False,\n",
       "                                                                              copy=True,\n",
       "                                                                              metric='nan_euclidean',\n",
       "                                                                              missing_values=nan,\n",
       "                                                                              n_neighbors=3,\n",
       "                                                                              weights='uniform')),\n",
       "                                                                  ('robustscaler',\n",
       "                                                                   Robus...\n",
       "                       min_features_to_select=1, n_jobs=None, scoring='roc_auc',\n",
       "                       step=1, verbose=0)),\n",
       "                ('logisticregression',\n",
       "                 LogisticRegression(C=1, class_weight={0: 0.45, 1: 0.55},\n",
       "                                    dual=False, fit_intercept=True,\n",
       "                                    intercept_scaling=1, l1_ratio=None,\n",
       "                                    max_iter=100, multi_class='auto',\n",
       "                                    n_jobs=None, penalty='l2', random_state=0,\n",
       "                                    solver='lbfgs', tol=0.0001, verbose=0,\n",
       "                                    warm_start=False))],\n",
       "         verbose=False)"
      ]
     },
     "execution_count": 47,
     "metadata": {},
     "output_type": "execute_result"
    }
   ],
   "source": [
    "from sklearn.linear_model import LogisticRegression\n",
    "from sklearn.preprocessing import KBinsDiscretizer\n",
    "from sklearn.model_selection import StratifiedKFold\n",
    "from sklearn.feature_selection import RFECV\n",
    "from sklearn.model_selection import train_test_split\n",
    "\n",
    "X = data.drop('Survived', axis=1)\n",
    "y = data['Survived']\n",
    "\n",
    "X_train, X_test, y_train, y_test = train_test_split(X, y, test_size=0.30, random_state=42)\n",
    "\n",
    "model = make_pipeline(preprocessor, RFECV(estimator=LogisticRegression(), step=1, cv=StratifiedKFold(3),\n",
    "              scoring='roc_auc'), LogisticRegression(random_state=0, class_weight={0:0.45, 1:0.55}, C=1))\n",
    "model.fit(X_train, y_train)\n"
   ]
  },
  {
   "cell_type": "code",
   "execution_count": 48,
   "metadata": {},
   "outputs": [],
   "source": [
    "# from sklearn.model_selection import GridSearchCV\n",
    "\n",
    "# param = {'logisticregression__C':[0.1, 0.5, 1, 5, 10]} \n",
    "\n",
    "# ## Perform the grid search over the parameters\n",
    "# clf = GridSearchCV(estimator = model, param_grid = param, \n",
    "#                       cv = 5, # Use the inside folds\n",
    "#                       scoring = 'roc_auc',\n",
    "#                       return_train_score = True)\n",
    "\n",
    "# clf.fit(X, y)\n",
    "# print(clf.best_params_)\n",
    "# clf.best_score_\n",
    "\n",
    "# {'logisticregression__C': 1}"
   ]
  },
  {
   "cell_type": "code",
   "execution_count": 49,
   "metadata": {},
   "outputs": [
    {
     "name": "stdout",
     "output_type": "stream",
     "text": [
      "                 score_Dead  score_Survived\n",
      "actual_Dead             133              24\n",
      "actual_Survived          28              83\n",
      "Accuracy        0.81\n",
      " \n",
      "            Dead      Survived\n",
      "Num case   157.00     111.00\n",
      "Precision   0.83      0.78\n",
      "Recall      0.85      0.75\n",
      "F1          0.84      0.76\n"
     ]
    }
   ],
   "source": [
    "y_pred = model.predict(X_test)\n",
    "proba = model.predict_proba(X_test)\n",
    "\n",
    "conf = sklm.confusion_matrix(y_test,y_pred)\n",
    "conf = pd.DataFrame(conf,columns=['score_Dead', 'score_Survived'], index =['actual_Dead', 'actual_Survived']  )\n",
    "print(conf)\n",
    "print('Accuracy        %0.2f' % sklm.accuracy_score(y_test, y_pred))\n",
    "metrics = sklm.precision_recall_fscore_support(y_test, y_pred)\n",
    "print(' ')\n",
    "print('            Dead      Survived')\n",
    "print('Num case   %0.2f' % metrics[3][0] + '     %0.2f' % metrics[3][1])\n",
    "print('Precision   %0.2f' % metrics[0][0] + '      %0.2f' % metrics[0][1])\n",
    "print('Recall      %0.2f' % metrics[1][0] + '      %0.2f' % metrics[1][1])\n",
    "print('F1          %0.2f' % metrics[2][0] + '      %0.2f' % metrics[2][1])"
   ]
  },
  {
   "cell_type": "code",
   "execution_count": 50,
   "metadata": {},
   "outputs": [
    {
     "name": "stdout",
     "output_type": "stream",
     "text": [
      "AUC : 0.88\n"
     ]
    },
    {
     "data": {
      "image/png": "[encoded data removed]",
      "text/plain": [
       "<Figure size 432x288 with 1 Axes>"
      ]
     },
     "metadata": {
      "needs_background": "light"
     },
     "output_type": "display_data"
    }
   ],
   "source": [
    "def plot_auc(labels, probs):\n",
    "    ## Compute the false positive rate, true positive rate\n",
    "    ## and threshold along with the AUC\n",
    "    fpr, tpr, threshold = sklm.roc_curve(labels, probs[:,1])\n",
    "    auc = sklm.auc(fpr, tpr)\n",
    "    print('AUC :', round(auc, 2))\n",
    "    \n",
    "    ## Plot the result\n",
    "    plt.title('Receiver Operating Characteristic')\n",
    "    plt.plot(fpr, tpr, color = 'orange', label = 'AUC = %0.2f' % auc)\n",
    "    plt.legend(loc = 'lower right')\n",
    "    plt.plot([0, 1], [0, 1],'r--')\n",
    "    plt.xlim([0, 1])\n",
    "    plt.ylim([0, 1])\n",
    "    plt.ylabel('True Positive Rate')\n",
    "    plt.xlabel('False Positive Rate')\n",
    "    plt.show()\n",
    "    \n",
    "plot_auc(y_test, proba) "
   ]
  },
  {
   "cell_type": "code",
   "execution_count": null,
   "metadata": {},
   "outputs": [],
   "source": []
  }
 ],
 "metadata": {
  "kernelspec": {
   "display_name": "Python 3",
   "language": "python",
   "name": "python3"
  },
  "language_info": {
   "codemirror_mode": {
    "name": "ipython",
    "version": 3
   },
   "file_extension": ".py",
   "mimetype": "text/x-python",
   "name": "python",
   "nbconvert_exporter": "python",
   "pygments_lexer": "ipython3",
   "version": "3.7.7"
  }
 },
 "nbformat": 4,
 "nbformat_minor": 4
}
